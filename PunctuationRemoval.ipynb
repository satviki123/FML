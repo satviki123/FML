{
  "nbformat": 4,
  "nbformat_minor": 0,
  "metadata": {
    "colab": {
      "provenance": [],
      "authorship_tag": "ABX9TyPrl5g7T45vuwAvl7iRCCyL",
      "include_colab_link": true
    },
    "kernelspec": {
      "name": "python3",
      "display_name": "Python 3"
    },
    "language_info": {
      "name": "python"
    }
  },
  "cells": [
    {
      "cell_type": "markdown",
      "metadata": {
        "id": "view-in-github",
        "colab_type": "text"
      },
      "source": [
        "<a href=\"https://colab.research.google.com/github/satviki123/FML/blob/main/PunctuationRemoval.ipynb\" target=\"_parent\"><img src=\"https://colab.research.google.com/assets/colab-badge.svg\" alt=\"Open In Colab\"/></a>"
      ]
    },
    {
      "cell_type": "code",
      "execution_count": 1,
      "metadata": {
        "colab": {
          "base_uri": "https://localhost:8080/"
        },
        "id": "XD-pNfLVLFyj",
        "outputId": "f2339fe7-0f53-4825-a4f0-7598b24779ea"
      },
      "outputs": [
        {
          "output_type": "stream",
          "name": "stdout",
          "text": [
            "I don t often go swimming  I prefer to play tennis \n"
          ]
        }
      ],
      "source": [
        "import re\n",
        "text =  '''I don't often go swimming; I prefer to play tennis.'''\n",
        "remove = re.sub(r'[^\\w\\s]',' ',text)\n",
        "print(remove)\n",
        "     "
      ]
    }
  ]
}