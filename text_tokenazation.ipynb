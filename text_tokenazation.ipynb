{
  "nbformat": 4,
  "nbformat_minor": 0,
  "metadata": {
    "colab": {
      "provenance": [],
      "authorship_tag": "ABX9TyO/gWY/q0z/LQjC1o63CgU+",
      "include_colab_link": true
    },
    "kernelspec": {
      "name": "python3",
      "display_name": "Python 3"
    },
    "language_info": {
      "name": "python"
    }
  },
  "cells": [
    {
      "cell_type": "markdown",
      "metadata": {
        "id": "view-in-github",
        "colab_type": "text"
      },
      "source": [
        "<a href=\"https://colab.research.google.com/github/satviki123/FML/blob/main/text_tokenazation.ipynb\" target=\"_parent\"><img src=\"https://colab.research.google.com/assets/colab-badge.svg\" alt=\"Open In Colab\"/></a>"
      ]
    },
    {
      "cell_type": "code",
      "execution_count": 1,
      "metadata": {
        "colab": {
          "base_uri": "https://localhost:8080/"
        },
        "id": "ETPT4euSASIp",
        "outputId": "49c726f7-39ff-458f-90a3-583603829de1"
      },
      "outputs": [
        {
          "output_type": "stream",
          "name": "stdout",
          "text": [
            "['the', 'punishment', 'assigned', 'to', 'a', 'defendant', 'found', 'guilty', 'by', 'a', 'court.', 'Or', 'fixed', 'by', 'law', 'for', 'a', 'particular', 'offence.']\n",
            "No of tokens :  19\n"
          ]
        }
      ],
      "source": [
        "text = '''the punishment assigned to a defendant found guilty by a court. Or fixed by law for a particular offence.'''\n",
        "tokens = text.split()\n",
        "print(tokens)\n",
        "print(\"No of tokens : \",len(tokens))\n"
      ]
    },
    {
      "cell_type": "markdown",
      "source": [
        "TOKENAIZATION USING REGULAR EXPRESSIONS\n"
      ],
      "metadata": {
        "id": "0uDYPn7NAmLN"
      }
    },
    {
      "cell_type": "code",
      "source": [
        "text = '''the punishment assigned to a defendant found guilty by a court. Or fixed by law for a particular offence'''\n",
        "sentences = text.split('.')\n",
        "print(sentences)\n",
        "print(\"No of sentences : \",len(sentences))"
      ],
      "metadata": {
        "colab": {
          "base_uri": "https://localhost:8080/"
        },
        "id": "sswu6UbgAZzp",
        "outputId": "2fe5f729-a537-4e5d-c8d9-a107a2e98b4a"
      },
      "execution_count": 2,
      "outputs": [
        {
          "output_type": "stream",
          "name": "stdout",
          "text": [
            "['the punishment assigned to a defendant found guilty by a court', ' Or fixed by law for a particular offence']\n",
            "No of sentences :  2\n"
          ]
        }
      ]
    },
    {
      "cell_type": "code",
      "source": [
        "import re"
      ],
      "metadata": {
        "id": "x1PKvPHaAiG2"
      },
      "execution_count": 3,
      "outputs": []
    },
    {
      "cell_type": "code",
      "source": [
        "tokens = re.findall(\"[\\w']+\",text)\n",
        "print(tokens)\n",
        "print(\"No of tokens : \",len(tokens))"
      ],
      "metadata": {
        "colab": {
          "base_uri": "https://localhost:8080/"
        },
        "id": "4KuMxccEAze_",
        "outputId": "7b47cf20-44de-4f0b-e2f7-69d5034e1b00"
      },
      "execution_count": 4,
      "outputs": [
        {
          "output_type": "stream",
          "name": "stdout",
          "text": [
            "['the', 'punishment', 'assigned', 'to', 'a', 'defendant', 'found', 'guilty', 'by', 'a', 'court', 'Or', 'fixed', 'by', 'law', 'for', 'a', 'particular', 'offence']\n",
            "No of tokens :  19\n"
          ]
        }
      ]
    },
    {
      "cell_type": "code",
      "source": [
        "sentences = re.compile('[.?!] ').split(text)\n",
        "print(sentences)\n",
        "print(\"No of sentences : \",len(sentences))\n",
        "     \n"
      ],
      "metadata": {
        "colab": {
          "base_uri": "https://localhost:8080/"
        },
        "id": "5SW01BnYA02T",
        "outputId": "e5a55e2e-a2da-4f15-c5d8-82d37370bdde"
      },
      "execution_count": 5,
      "outputs": [
        {
          "output_type": "stream",
          "name": "stdout",
          "text": [
            "['the punishment assigned to a defendant found guilty by a court', 'Or fixed by law for a particular offence']\n",
            "No of sentences :  2\n"
          ]
        }
      ]
    },
    {
      "cell_type": "code",
      "source": [
        "!pip install --user -U nltk\n"
      ],
      "metadata": {
        "colab": {
          "base_uri": "https://localhost:8080/"
        },
        "id": "0p0MlL1mA4c_",
        "outputId": "968f9149-5e88-4f75-c32b-a9f30cdaf698"
      },
      "execution_count": 6,
      "outputs": [
        {
          "output_type": "stream",
          "name": "stdout",
          "text": [
            "Looking in indexes: https://pypi.org/simple, https://us-python.pkg.dev/colab-wheels/public/simple/\n",
            "Requirement already satisfied: nltk in /usr/local/lib/python3.10/dist-packages (3.8.1)\n",
            "Requirement already satisfied: click in /usr/local/lib/python3.10/dist-packages (from nltk) (8.1.3)\n",
            "Requirement already satisfied: joblib in /usr/local/lib/python3.10/dist-packages (from nltk) (1.2.0)\n",
            "Requirement already satisfied: regex>=2021.8.3 in /usr/local/lib/python3.10/dist-packages (from nltk) (2022.10.31)\n",
            "Requirement already satisfied: tqdm in /usr/local/lib/python3.10/dist-packages (from nltk) (4.65.0)\n"
          ]
        }
      ]
    },
    {
      "cell_type": "code",
      "source": [
        "import nltk\n",
        "nltk.download('punkt')\n"
      ],
      "metadata": {
        "colab": {
          "base_uri": "https://localhost:8080/"
        },
        "id": "IbjGoHP8A7t8",
        "outputId": "e99db253-9a82-4c5f-c1c5-d7b7b86e1aed"
      },
      "execution_count": 7,
      "outputs": [
        {
          "output_type": "stream",
          "name": "stderr",
          "text": [
            "[nltk_data] Downloading package punkt to /root/nltk_data...\n",
            "[nltk_data]   Unzipping tokenizers/punkt.zip.\n"
          ]
        },
        {
          "output_type": "execute_result",
          "data": {
            "text/plain": [
              "True"
            ]
          },
          "metadata": {},
          "execution_count": 7
        }
      ]
    },
    {
      "cell_type": "code",
      "source": [
        "\n",
        "from nltk.tokenize import word_tokenize \n",
        "tokens = word_tokenize(text)\n",
        "print(tokens)\n",
        "print(\"No.of tokens : \", len(tokens))\n",
        "     "
      ],
      "metadata": {
        "colab": {
          "base_uri": "https://localhost:8080/"
        },
        "id": "v1FbidUyBACi",
        "outputId": "3d1835c6-14c3-4a33-8ecf-a54dacbdc994"
      },
      "execution_count": 8,
      "outputs": [
        {
          "output_type": "stream",
          "name": "stdout",
          "text": [
            "['the', 'punishment', 'assigned', 'to', 'a', 'defendant', 'found', 'guilty', 'by', 'a', 'court', '.', 'Or', 'fixed', 'by', 'law', 'for', 'a', 'particular', 'offence']\n",
            "No.of tokens :  20\n"
          ]
        }
      ]
    },
    {
      "cell_type": "code",
      "source": [
        "#sentence tokenization\n",
        "from nltk.tokenize import sent_tokenize\n",
        "sentences = sent_tokenize(text)\n",
        "print(sentences)\n",
        "print(\"No.of sentences : \", len(sentences))\n"
      ],
      "metadata": {
        "colab": {
          "base_uri": "https://localhost:8080/"
        },
        "id": "hpUsQPhpBGEr",
        "outputId": "14288abb-787d-497d-f1bd-65c459427f85"
      },
      "execution_count": 9,
      "outputs": [
        {
          "output_type": "stream",
          "name": "stdout",
          "text": [
            "['the punishment assigned to a defendant found guilty by a court.', 'Or fixed by law for a particular offence']\n",
            "No.of sentences :  2\n"
          ]
        }
      ]
    },
    {
      "cell_type": "markdown",
      "source": [
        "TOKENIZATION USING NLTK"
      ],
      "metadata": {
        "id": "0a6JpwhrBIgh"
      }
    },
    {
      "cell_type": "code",
      "source": [
        "\n",
        "import nltk\n",
        "nltk.download('punkt')\n"
      ],
      "metadata": {
        "colab": {
          "base_uri": "https://localhost:8080/"
        },
        "id": "Mk0E2WWMBNfe",
        "outputId": "a1282bce-4c09-4ae9-bf7b-7d3d52b50338"
      },
      "execution_count": 10,
      "outputs": [
        {
          "output_type": "stream",
          "name": "stderr",
          "text": [
            "[nltk_data] Downloading package punkt to /root/nltk_data...\n",
            "[nltk_data]   Package punkt is already up-to-date!\n"
          ]
        },
        {
          "output_type": "execute_result",
          "data": {
            "text/plain": [
              "True"
            ]
          },
          "metadata": {},
          "execution_count": 10
        }
      ]
    },
    {
      "cell_type": "code",
      "source": [
        "from nltk.tokenize import word_tokenize\n",
        "tokens = word_tokenize(text)\n",
        "print(tokens)\n",
        "print(\"No.of tokens : \", len(tokens))\n"
      ],
      "metadata": {
        "colab": {
          "base_uri": "https://localhost:8080/"
        },
        "id": "5VSA3vPyBQuf",
        "outputId": "af7ec0fd-f276-49b0-c7f3-0e8dd43d4d4f"
      },
      "execution_count": 11,
      "outputs": [
        {
          "output_type": "stream",
          "name": "stdout",
          "text": [
            "['the', 'punishment', 'assigned', 'to', 'a', 'defendant', 'found', 'guilty', 'by', 'a', 'court', '.', 'Or', 'fixed', 'by', 'law', 'for', 'a', 'particular', 'offence']\n",
            "No.of tokens :  20\n"
          ]
        }
      ]
    },
    {
      "cell_type": "code",
      "source": [
        "from nltk.tokenize import sent_tokenize\n",
        "sentences = sent_tokenize(text)\n",
        "print(sentences)\n",
        "print(\"No.of sentences : \", len(sentences))\n"
      ],
      "metadata": {
        "colab": {
          "base_uri": "https://localhost:8080/"
        },
        "id": "3DDKwFk6BUAu",
        "outputId": "f1a04678-6452-4d3b-e9e2-3986a88d2384"
      },
      "execution_count": 12,
      "outputs": [
        {
          "output_type": "stream",
          "name": "stdout",
          "text": [
            "['the punishment assigned to a defendant found guilty by a court.', 'Or fixed by law for a particular offence']\n",
            "No.of sentences :  2\n"
          ]
        }
      ]
    }
  ]
}