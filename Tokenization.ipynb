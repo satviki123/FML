{
  "nbformat": 4,
  "nbformat_minor": 0,
  "metadata": {
    "colab": {
      "provenance": [],
      "authorship_tag": "ABX9TyO+AGy4Sz3Hu2LctJ4Hk7f9",
      "include_colab_link": true
    },
    "kernelspec": {
      "name": "python3",
      "display_name": "Python 3"
    },
    "language_info": {
      "name": "python"
    }
  },
  "cells": [
    {
      "cell_type": "markdown",
      "metadata": {
        "id": "view-in-github",
        "colab_type": "text"
      },
      "source": [
        "<a href=\"https://colab.research.google.com/github/satviki123/FML/blob/main/Tokenization.ipynb\" target=\"_parent\"><img src=\"https://colab.research.google.com/assets/colab-badge.svg\" alt=\"Open In Colab\"/></a>"
      ]
    },
    {
      "cell_type": "code",
      "execution_count": 1,
      "metadata": {
        "colab": {
          "base_uri": "https://localhost:8080/"
        },
        "id": "UURzBTqIJRvm",
        "outputId": "82ee5e70-1c20-4ccd-e2da-b668effdd895"
      },
      "outputs": [
        {
          "output_type": "stream",
          "name": "stdout",
          "text": [
            "['the', 'punishment', 'assigned', 'to', 'a', 'defendant', 'found', 'guilty', 'by', 'a', 'court.', 'Or', 'fixed', 'by', 'law', 'for', 'a', 'particular', 'offence.']\n",
            "No of tokens :  19\n"
          ]
        }
      ],
      "source": [
        "text = '''the punishment assigned to a defendant found guilty by a court. Or fixed by law for a particular offence.'''\n",
        "tokens = text.split()\n",
        "print(tokens)\n",
        "print(\"No of tokens : \",len(tokens))"
      ]
    },
    {
      "cell_type": "code",
      "source": [
        "text = '''the punishment assigned to a defendant found guilty by a court. Or fixed by law for a particular offence'''\n",
        "sentences = text.split('.')\n",
        "print(sentences)\n",
        "print(\"No of sentences : \",len(sentences))\n"
      ],
      "metadata": {
        "colab": {
          "base_uri": "https://localhost:8080/"
        },
        "id": "Mf1wA3bUJvdA",
        "outputId": "7b649c73-b093-4cce-b7f0-bd2f68f5590c"
      },
      "execution_count": 2,
      "outputs": [
        {
          "output_type": "stream",
          "name": "stdout",
          "text": [
            "['the punishment assigned to a defendant found guilty by a court', ' Or fixed by law for a particular offence']\n",
            "No of sentences :  2\n"
          ]
        }
      ]
    },
    {
      "cell_type": "code",
      "source": [
        "import re"
      ],
      "metadata": {
        "id": "ZtyETiZBJ6Gf"
      },
      "execution_count": 3,
      "outputs": []
    },
    {
      "cell_type": "code",
      "source": [
        "tokens = re.findall(\"[\\w']+\",text)\n",
        "print(tokens)\n",
        "print(\"No of tokens : \",len(tokens))\n"
      ],
      "metadata": {
        "colab": {
          "base_uri": "https://localhost:8080/"
        },
        "id": "YqoTz375KBmU",
        "outputId": "0d371329-3a56-4a11-9ce4-88b0610fa4ae"
      },
      "execution_count": 4,
      "outputs": [
        {
          "output_type": "stream",
          "name": "stdout",
          "text": [
            "['the', 'punishment', 'assigned', 'to', 'a', 'defendant', 'found', 'guilty', 'by', 'a', 'court', 'Or', 'fixed', 'by', 'law', 'for', 'a', 'particular', 'offence']\n",
            "No of tokens :  19\n"
          ]
        }
      ]
    },
    {
      "cell_type": "code",
      "source": [
        "sentences = re.compile('[.?!] ').split(text)\n",
        "print(sentences)\n",
        "print(\"No of sentences : \",len(sentences))\n"
      ],
      "metadata": {
        "colab": {
          "base_uri": "https://localhost:8080/"
        },
        "id": "IoUmtdIKKOth",
        "outputId": "2541dab4-8a53-44f8-b801-a3af99f89b74"
      },
      "execution_count": 5,
      "outputs": [
        {
          "output_type": "stream",
          "name": "stdout",
          "text": [
            "['the punishment assigned to a defendant found guilty by a court', 'Or fixed by law for a particular offence']\n",
            "No of sentences :  2\n"
          ]
        }
      ]
    },
    {
      "cell_type": "code",
      "source": [
        "!pip install --user -U nltk"
      ],
      "metadata": {
        "colab": {
          "base_uri": "https://localhost:8080/"
        },
        "id": "jY-fdJqwKR3G",
        "outputId": "0b75e0f8-e849-44cb-d83c-5c71bc539a39"
      },
      "execution_count": 6,
      "outputs": [
        {
          "output_type": "stream",
          "name": "stdout",
          "text": [
            "Looking in indexes: https://pypi.org/simple, https://us-python.pkg.dev/colab-wheels/public/simple/\n",
            "Requirement already satisfied: nltk in /usr/local/lib/python3.10/dist-packages (3.8.1)\n",
            "Requirement already satisfied: click in /usr/local/lib/python3.10/dist-packages (from nltk) (8.1.3)\n",
            "Requirement already satisfied: joblib in /usr/local/lib/python3.10/dist-packages (from nltk) (1.2.0)\n",
            "Requirement already satisfied: regex>=2021.8.3 in /usr/local/lib/python3.10/dist-packages (from nltk) (2022.10.31)\n",
            "Requirement already satisfied: tqdm in /usr/local/lib/python3.10/dist-packages (from nltk) (4.65.0)\n"
          ]
        }
      ]
    },
    {
      "cell_type": "code",
      "source": [
        "import nltk\n",
        "nltk.download('punkt')\n"
      ],
      "metadata": {
        "colab": {
          "base_uri": "https://localhost:8080/"
        },
        "id": "kb26q-mJKYKL",
        "outputId": "1363656d-bc36-4b98-e7d4-525d438e0453"
      },
      "execution_count": 7,
      "outputs": [
        {
          "output_type": "stream",
          "name": "stderr",
          "text": [
            "[nltk_data] Downloading package punkt to /root/nltk_data...\n",
            "[nltk_data]   Unzipping tokenizers/punkt.zip.\n"
          ]
        },
        {
          "output_type": "execute_result",
          "data": {
            "text/plain": [
              "True"
            ]
          },
          "metadata": {},
          "execution_count": 7
        }
      ]
    },
    {
      "cell_type": "code",
      "source": [
        "from nltk.tokenize import word_tokenize \n",
        "tokens = word_tokenize(text)\n",
        "print(tokens)\n",
        "print(\"No.of tokens : \", len(tokens))\n"
      ],
      "metadata": {
        "colab": {
          "base_uri": "https://localhost:8080/"
        },
        "id": "GqGABluEKecF",
        "outputId": "0c656a87-06ec-4ce4-b632-d830e0954521"
      },
      "execution_count": 8,
      "outputs": [
        {
          "output_type": "stream",
          "name": "stdout",
          "text": [
            "['the', 'punishment', 'assigned', 'to', 'a', 'defendant', 'found', 'guilty', 'by', 'a', 'court', '.', 'Or', 'fixed', 'by', 'law', 'for', 'a', 'particular', 'offence']\n",
            "No.of tokens :  20\n"
          ]
        }
      ]
    },
    {
      "cell_type": "code",
      "source": [
        "#sentence tokenization\n",
        "from nltk.tokenize import sent_tokenize\n",
        "sentences = sent_tokenize(text)\n",
        "print(sentences)\n",
        "print(\"No.of sentences : \", len(sentences))\n"
      ],
      "metadata": {
        "colab": {
          "base_uri": "https://localhost:8080/"
        },
        "id": "bBBE4YlHKflt",
        "outputId": "cba5933a-674e-4858-d8fc-b074f10118eb"
      },
      "execution_count": 9,
      "outputs": [
        {
          "output_type": "stream",
          "name": "stdout",
          "text": [
            "['the punishment assigned to a defendant found guilty by a court.', 'Or fixed by law for a particular offence']\n",
            "No.of sentences :  2\n"
          ]
        }
      ]
    },
    {
      "cell_type": "code",
      "source": [
        "from nltk.stem import PorterStemmer\n"
      ],
      "metadata": {
        "id": "At7W3_H3KjTg"
      },
      "execution_count": 10,
      "outputs": []
    },
    {
      "cell_type": "code",
      "source": [
        "porter = PorterStemmer()\n",
        "print(porter.stem(\"Boys\"))\n",
        "print(porter.stem(\"Shouting\"))"
      ],
      "metadata": {
        "colab": {
          "base_uri": "https://localhost:8080/"
        },
        "id": "s3q8k21DKpaE",
        "outputId": "495dcce8-3dbe-43a3-b8a3-cc7dc6ca0f8b"
      },
      "execution_count": 11,
      "outputs": [
        {
          "output_type": "stream",
          "name": "stdout",
          "text": [
            "boy\n",
            "shout\n"
          ]
        }
      ]
    }
  ]
}